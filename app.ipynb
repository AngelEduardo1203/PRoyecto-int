{
 "cells": [
  {
   "cell_type": "code",
   "execution_count": null,
   "id": "c5d2f10a",
   "metadata": {},
   "outputs": [
    {
     "name": "stdout",
     "output_type": "stream",
     "text": [
      " * Serving Flask app '__main__'\n",
      " * Debug mode: off\n"
     ]
    },
    {
     "name": "stderr",
     "output_type": "stream",
     "text": [
      "WARNING: This is a development server. Do not use it in a production deployment. Use a production WSGI server instead.\n",
      " * Running on http://127.0.0.1:5000\n",
      "Press CTRL+C to quit\n",
      "127.0.0.1 - - [24/May/2024 12:15:44] \"GET / HTTP/1.1\" 200 -\n",
      "127.0.0.1 - - [24/May/2024 12:15:54] \"POST / HTTP/1.1\" 200 -\n"
     ]
    }
   ],
   "source": [
    "from flask import Flask, request, render_template\n",
    "import pandas as pd\n",
    "import pickle\n",
    "import joblib\n",
    "\n",
    "app = Flask(__name__)\n",
    "\n",
    "model = joblib.load('modelo.pkl')\n",
    "\n",
    "@app.route('/', methods=['GET', 'POST'])\n",
    "def home():\n",
    "    if request.method == 'POST':\n",
    "        try:\n",
    "            # Recupera los datos del formulario\n",
    "            Idestado= float(request.form['Idestado'])\n",
    "            Idcultivo= float(request.form['Idcultivo'])\n",
    "            Sembrada = float(request.form['ISembrada'])\n",
    "            Cosechada = float(request.form['Cosechada'])\n",
    "            Siniestrada = float(request.form['Siniestrada'])\n",
    "            # Prepara los datos para el modelo\n",
    "            features = [[Idestado, Idcultivo, Sembrada, Cosechada, Siniestrada]]\n",
    "            prediction = model.predict(features)\n",
    "\n",
    "            # Devuelve el resultado de la predicción\n",
    "            return render_template('index.html', prediction_text=f'Predicted Output: {prediction[0]}')\n",
    "        except Exception as e:\n",
    "            return f\"Error: {str(e)}\"\n",
    "    return render_template('index.html')\n",
    "\n",
    "if __name__ == \"__main__\":\n",
    "    app.run()\n"
   ]
  },
  {
   "cell_type": "code",
   "execution_count": null,
   "id": "c08e6095",
   "metadata": {},
   "outputs": [],
   "source": []
  }
 ],
 "metadata": {
  "kernelspec": {
   "display_name": "Python 3 (ipykernel)",
   "language": "python",
   "name": "python3"
  },
  "language_info": {
   "codemirror_mode": {
    "name": "ipython",
    "version": 3
   },
   "file_extension": ".py",
   "mimetype": "text/x-python",
   "name": "python",
   "nbconvert_exporter": "python",
   "pygments_lexer": "ipython3",
   "version": "3.11.5"
  }
 },
 "nbformat": 4,
 "nbformat_minor": 5
}
